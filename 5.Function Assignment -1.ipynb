{
 "cells": [
  {
   "cell_type": "code",
   "execution_count": null,
   "id": "65607723-e2ab-42d9-ba11-323c8f99b17e",
   "metadata": {},
   "outputs": [],
   "source": [
    "# Create Function Sub fields"
   ]
  },
  {
   "cell_type": "code",
   "execution_count": 1,
   "id": "df25cd10-aa48-4ed1-b4ec-b3f634c730d8",
   "metadata": {},
   "outputs": [],
   "source": [
    "def Subfields():\n",
    "\n",
    "    Lists =(\"Machine Learning\",\"Natural Networks\",\"Vision\",\"Robotics\",\"Speech Processing\",\"Natural Language Processing\")\n",
    "    print(\"Sub-Fields in AI are:\")\n",
    "    for course in Lists:\n",
    "        print(course)\n",
    "        fields = \"Course\"\n",
    "    return fields\n",
    "         \n",
    "\n"
   ]
  },
  {
   "cell_type": "code",
   "execution_count": 2,
   "id": "238a9298-d3b3-43b7-bfb5-87b31bd0e26f",
   "metadata": {},
   "outputs": [
    {
     "name": "stdout",
     "output_type": "stream",
     "text": [
      "Sub-Fields in AI are:\n",
      "Machine Learning\n",
      "Natural Networks\n",
      "Vision\n",
      "Robotics\n",
      "Speech Processing\n",
      "Natural Language Processing\n"
     ]
    }
   ],
   "source": [
    "fields=Subfields()"
   ]
  },
  {
   "cell_type": "code",
   "execution_count": null,
   "id": "df91874b-4a34-4682-8832-40ebc66f06da",
   "metadata": {},
   "outputs": [],
   "source": [
    "#Create a function = OddEven()"
   ]
  },
  {
   "cell_type": "code",
   "execution_count": null,
   "id": "42ef32ec-2343-4f29-82b9-d17261864ed9",
   "metadata": {},
   "outputs": [],
   "source": [
    "def oddEven():\n",
    "\n",
    "    num=int(input(\"Enter the number:\"))\n",
    "    if( num%2==0):\n",
    "        print(num,\"is Even Number\")\n",
    "        number=\"is Even Number\"\n",
    "    else:\n",
    "        print(num,\"is Odd Number\")\n",
    "        number=\"is odd Number\"\n",
    "    return number\n",
    "    "
   ]
  },
  {
   "cell_type": "code",
   "execution_count": null,
   "id": "027b4929-dac0-4011-8695-1194c588a9e2",
   "metadata": {},
   "outputs": [],
   "source": [
    "number=oddEven()"
   ]
  },
  {
   "cell_type": "code",
   "execution_count": null,
   "id": "ee6bdae2-abee-4017-85f2-94272d7716e8",
   "metadata": {},
   "outputs": [],
   "source": [
    "#Create a Function  :Eligible ()\n"
   ]
  },
  {
   "cell_type": "code",
   "execution_count": null,
   "id": "577320c5-aa27-498d-bd2b-71d62911f5ab",
   "metadata": {},
   "outputs": [],
   "source": [
    "def Eligible():\n",
    "    \n",
    "    Gender =input(\"Your Gender:\")\n",
    "    age = int(input(\"Your Age :\"))\n",
    "    if (age<=21):\n",
    "        print(\"Not Eligible\")\n",
    "        Elig= \"Not Eligible\"\n",
    "        \n",
    "    else:\n",
    "        print(\"Eligible\")\n",
    "        Elig = \"Eligible\"\n",
    "    return  Elig\n",
    "        \n",
    "   "
   ]
  },
  {
   "cell_type": "code",
   "execution_count": null,
   "id": "ae598f97-b641-409f-9ec5-f0962da71980",
   "metadata": {},
   "outputs": [],
   "source": [
    "Elig=Eligible()"
   ]
  },
  {
   "cell_type": "raw",
   "id": "c08af705-2c4a-4120-871a-686f3e8baa15",
   "metadata": {},
   "source": [
    "# Create a Function : Percentage()\n"
   ]
  },
  {
   "cell_type": "code",
   "execution_count": null,
   "id": "67035bd2-0ac5-4873-bbe6-9a01df1f7f11",
   "metadata": {},
   "outputs": [],
   "source": [
    "def Percentage():\n",
    "    sub1= int(input(\"Subject1:\"))\n",
    "    sub2= int(input(\"Subject2;\"))\n",
    "    sub3= int(input(\"Subject3:\"))\n",
    "    sub4= int(input(\"Subject4:\"))\n",
    "    sub5= int(input(\"Subject5:\"))\n",
    "    Tot = sub1+sub2+sub3+sub4+sub5\n",
    "    print(\"Total\",Tot)\n",
    "    percen=\"Total\"\n",
    "    per = Tot/5\n",
    "    print(\"Percentage\",per)\n",
    "    percen = \"Percentage\"\n",
    "    return percen"
   ]
  },
  {
   "cell_type": "code",
   "execution_count": null,
   "id": "a2f9a7ed-f510-4ae0-81e9-7a152cbc9137",
   "metadata": {},
   "outputs": [],
   "source": [
    "percen = Percentage()"
   ]
  },
  {
   "cell_type": "code",
   "execution_count": null,
   "id": "aad32a4e-f9ee-41e2-b72d-24fcf996e355",
   "metadata": {},
   "outputs": [],
   "source": [
    "#Create a Function triangle()"
   ]
  },
  {
   "cell_type": "code",
   "execution_count": null,
   "id": "b479bcaf-41dd-4001-99be-7dff0fb234c0",
   "metadata": {},
   "outputs": [],
   "source": []
  },
  {
   "cell_type": "code",
   "execution_count": null,
   "id": "a1b9c985-ea26-4945-9721-cb0c35ece93a",
   "metadata": {},
   "outputs": [],
   "source": [
    "def triangle():\n",
    "    Hi=int(input(\"Height:\"))\n",
    "    Br=int(input(\"Breadth:\"))\n",
    "    A_formula=Hi*Br/2\n",
    "    print(\"Area Formula\",A_formula)\n",
    "    tri = \"Area Formula\"\n",
    "    Hi1=int(input(\"Height1:\"))\n",
    "    Hi2=int(input(\"Height2:\"))\n",
    "    Br1=int(input(\"Breadth:\"))\n",
    "    per_formula =Hi1+Hi2+Br1\n",
    "    print(\"Perimeter of Triangle\",per_formula)\n",
    "    tri = \"Perimeter of Triange\"\n",
    "    return tri"
   ]
  },
  {
   "cell_type": "code",
   "execution_count": null,
   "id": "fa55a2eb-4a5b-4747-b1aa-d3102a1131fd",
   "metadata": {
    "scrolled": true
   },
   "outputs": [],
   "source": [
    "tri = triangle()"
   ]
  },
  {
   "cell_type": "code",
   "execution_count": null,
   "id": "79b83bda-a7cd-400d-92ab-a79da536f0e1",
   "metadata": {},
   "outputs": [],
   "source": []
  },
  {
   "cell_type": "code",
   "execution_count": null,
   "id": "a86ac34f-aa76-4f64-b1c7-1bdd4ecd374d",
   "metadata": {},
   "outputs": [],
   "source": []
  },
  {
   "cell_type": "code",
   "execution_count": null,
   "id": "de71aea3-a429-4030-9eac-e85a52107515",
   "metadata": {},
   "outputs": [],
   "source": [
    "class SubfieldsInAI():\n",
    "    def oddEven():\n",
    "        num=int(input(\"Enter the number:\"))\n",
    "        if( num%2==0):\n",
    "            print(num,\"is Even Number\")\n",
    "            number=\"is Even Number\"\n",
    "        else:\n",
    "            print(num,\"is Odd Number\")\n",
    "            number=\"is odd Number\"\n",
    "        return number\n",
    "    def Percentage():\n",
    "        sub1= int(input(\"Subject1:\"))\n",
    "        sub2= int(input(\"Subject2;\"))\n",
    "        sub3= int(input(\"Subject3:\"))\n",
    "        sub4= int(input(\"Subject4:\"))\n",
    "        sub5= int(input(\"Subject5:\"))\n",
    "        Tot = sub1+sub2+sub3+sub4+sub5\n",
    "        print(\"Total\",Tot)\n",
    "        percen=\"Total\"\n",
    "        per = Tot/5\n",
    "        print(\"Percentage\",per)\n",
    "        percen = \"Percentage\"\n",
    "        return percen"
   ]
  },
  {
   "cell_type": "code",
   "execution_count": null,
   "id": "f3f14c8f-e948-451c-b313-19deffb7e05a",
   "metadata": {},
   "outputs": [],
   "source": [
    "SubfieldsInAI.oddEven()"
   ]
  },
  {
   "cell_type": "code",
   "execution_count": null,
   "id": "3af4a742-d08a-4a99-91c1-2ad7a50d26a0",
   "metadata": {},
   "outputs": [],
   "source": []
  }
 ],
 "metadata": {
  "kernelspec": {
   "display_name": "Python 3 (ipykernel)",
   "language": "python",
   "name": "python3"
  },
  "language_info": {
   "codemirror_mode": {
    "name": "ipython",
    "version": 3
   },
   "file_extension": ".py",
   "mimetype": "text/x-python",
   "name": "python",
   "nbconvert_exporter": "python",
   "pygments_lexer": "ipython3",
   "version": "3.12.4"
  }
 },
 "nbformat": 4,
 "nbformat_minor": 5
}
